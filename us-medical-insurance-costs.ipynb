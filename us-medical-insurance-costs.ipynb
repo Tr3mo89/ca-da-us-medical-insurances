{
 "cells": [
  {
   "cell_type": "markdown",
   "metadata": {},
   "source": [
    "# U.S. Medical Insurance Costs"
   ]
  },
  {
   "attachments": {},
   "cell_type": "markdown",
   "metadata": {},
   "source": [
    "Import the dataset and store within python."
   ]
  },
  {
   "cell_type": "code",
   "execution_count": 11,
   "metadata": {},
   "outputs": [
    {
     "name": "stdout",
     "output_type": "stream",
     "text": [
      "Number of entries in the dataset: 1338\n",
      "{'age': '19', 'sex': 'female', 'bmi': '27.9', 'children': '0', 'smoker': 'yes', 'region': 'southwest', 'charges': '16884.924'}\n"
     ]
    }
   ],
   "source": [
    "import csv\n",
    "\n",
    "medical_data_list = []\n",
    "\n",
    "with open(\"insurance.csv\") as medical_data_file:\n",
    "    medical_data = csv.DictReader(medical_data_file)\n",
    "    for row in medical_data:\n",
    "        medical_data_list.append(row)\n",
    "\n",
    "print(\"Number of entries in the dataset: \" + str(len(medical_data_list)))\n",
    "print(medical_data_list[0])\n",
    "\n"
   ]
  },
  {
   "attachments": {},
   "cell_type": "markdown",
   "metadata": {},
   "source": [
    "## Grouping data"
   ]
  },
  {
   "cell_type": "code",
   "execution_count": 17,
   "metadata": {},
   "outputs": [
    {
     "name": "stdout",
     "output_type": "stream",
     "text": [
      "Average age: 39.21\n",
      "Average BMI: 30.66\n",
      "Average charges: 13270.42\n"
     ]
    }
   ],
   "source": [
    "ages = []\n",
    "bmis = []\n",
    "children = []\n",
    "charges = []\n",
    "regions = []\n",
    "for data in medical_data_list:\n",
    "    ages.append(int(data[\"age\"]))\n",
    "    bmis.append(float(data[\"bmi\"]))\n",
    "    children.append(int(data[\"children\"]))\n",
    "    charges.append(float(data[\"charges\"]))\n",
    "    regions.append(data[\"region\"])\n",
    "\n",
    "\n",
    "avg_age = round((sum(ages) / len(ages)),2)\n",
    "avg_bmi = round((sum(bmis) / len(bmis)),2)\n",
    "avg_charges = round((sum(charges) / len(charges)),2)\n",
    "print(\"Average age: \" + str(avg_age))\n",
    "print(\"Average BMI: \" + str(avg_bmi))\n",
    "print(\"Average charges: \" + str(avg_charges))"
   ]
  },
  {
   "attachments": {},
   "cell_type": "markdown",
   "metadata": {},
   "source": [
    "## Distribution of region data"
   ]
  },
  {
   "cell_type": "code",
   "execution_count": 18,
   "metadata": {},
   "outputs": [
    {
     "name": "stdout",
     "output_type": "stream",
     "text": [
      "{'southwest', 'southeast', 'northeast', 'northwest'}\n",
      "<class 'set'>\n",
      "Number of data entries from region southwest: 325\n",
      "Number of data entries from region southeast: 364\n",
      "Number of data entries from region northeast: 324\n",
      "Number of data entries from region northwest: 325\n"
     ]
    }
   ],
   "source": [
    "region_set = {'southwest', 'southeast', 'northeast', 'northwest'}\n",
    "\n",
    "count_southwest = regions.count(\"southwest\")\n",
    "count_southeast = regions.count(\"southeast\")\n",
    "count_northeast = regions.count(\"northeast\")\n",
    "count_northwest = regions.count(\"northwest\")\n",
    "\n",
    "print(region_set)\n",
    "print(type(region_set))\n",
    "print(\"Number of data entries from region southwest: \" + str(count_southwest))\n",
    "print(\"Number of data entries from region southeast: \" + str(count_southeast))\n",
    "print(\"Number of data entries from region northeast: \" + str(count_northeast))\n",
    "print(\"Number of data entries from region northwest: \" + str(count_northwest))\n",
    "\n"
   ]
  },
  {
   "attachments": {},
   "cell_type": "markdown",
   "metadata": {},
   "source": []
  },
  {
   "cell_type": "code",
   "execution_count": 19,
   "metadata": {},
   "outputs": [],
   "source": [
    "def region_based_information(region):\n",
    "    counter = 0\n",
    "    ages = []\n",
    "    bmis = []\n",
    "    children = []\n",
    "    charges = []\n",
    "    for entry in medical_data_list:\n",
    "        if entry[\"region\"] == region:\n",
    "            ages.append(int(data[\"age\"]))\n",
    "            bmis.append(float(data[\"bmi\"]))\n",
    "            children.append(int(data[\"children\"]))\n",
    "            charges.append(float(data[\"charges\"]))\n",
    "            counter += 1\n",
    "    avg_age = round((sum(ages) / len(ages)),2)\n",
    "    avg_bmi = round((sum(bmis) / len(bmis)),2)\n",
    "    avg_children = round((sum(children) / len(children)),2)\n",
    "    avg_charges = round((sum(charges) / len(charges)),2)\n",
    "    print(\"Number of data entries from region {}: \".format(region) + str(counter))\n",
    "    print(\"Average age in region {} is: \".format(region) + str(avg_age))\n",
    "    print(\"Average BMI in region {} is: \".format(region) + str(avg_bmi))\n",
    "    print(\"Average number of children in region {} is: \".format(region) + str(avg_children))\n",
    "    print(\"Average charges in region {} is: \".format(region) + str(avg_charges))\n"
   ]
  },
  {
   "cell_type": "code",
   "execution_count": 20,
   "metadata": {},
   "outputs": [
    {
     "name": "stdout",
     "output_type": "stream",
     "text": [
      "Number of data entries from region southwest: 325\n",
      "Average age in region southwest is: 61.0\n",
      "Average BMI in region southwest is: 29.07\n",
      "Average number of children in region southwest is: 0.0\n",
      "Average charges in region southwest is: 29141.36\n",
      "Number of data entries from region southeast: 364\n",
      "Average age in region southeast is: 61.0\n",
      "Average BMI in region southeast is: 29.07\n",
      "Average number of children in region southeast is: 0.0\n",
      "Average charges in region southeast is: 29141.36\n",
      "Number of data entries from region northeast: 324\n",
      "Average age in region northeast is: 61.0\n",
      "Average BMI in region northeast is: 29.07\n",
      "Average number of children in region northeast is: 0.0\n",
      "Average charges in region northeast is: 29141.36\n",
      "Number of data entries from region northwest: 325\n",
      "Average age in region northwest is: 61.0\n",
      "Average BMI in region northwest is: 29.07\n",
      "Average number of children in region northwest is: 0.0\n",
      "Average charges in region northwest is: 29141.36\n"
     ]
    }
   ],
   "source": [
    "region_based_information(\"southwest\")\n",
    "region_based_information(\"southeast\")\n",
    "region_based_information(\"northeast\")\n",
    "region_based_information(\"northwest\")"
   ]
  }
 ],
 "metadata": {
  "kernelspec": {
   "display_name": "Python 3",
   "language": "python",
   "name": "python3"
  },
  "language_info": {
   "codemirror_mode": {
    "name": "ipython",
    "version": 3
   },
   "file_extension": ".py",
   "mimetype": "text/x-python",
   "name": "python",
   "nbconvert_exporter": "python",
   "pygments_lexer": "ipython3",
   "version": "3.11.2"
  }
 },
 "nbformat": 4,
 "nbformat_minor": 4
}
